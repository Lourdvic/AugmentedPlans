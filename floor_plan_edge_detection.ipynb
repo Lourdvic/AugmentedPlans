{
  "nbformat": 4,
  "nbformat_minor": 0,
  "metadata": {
    "colab": {
      "name": "floor-plan-edge-detection.ipynb",
      "provenance": [],
      "include_colab_link": true
    },
    "kernelspec": {
      "name": "python3",
      "display_name": "Python 3"
    }
  },
  "cells": [
    {
      "cell_type": "markdown",
      "metadata": {
        "id": "view-in-github",
        "colab_type": "text"
      },
      "source": [
        "<a href=\"https://colab.research.google.com/github/Lourdvic/AugmentedPlans/blob/master/floor_plan_edge_detection.ipynb\" target=\"_parent\"><img src=\"https://colab.research.google.com/assets/colab-badge.svg\" alt=\"Open In Colab\"/></a>"
      ]
    },
    {
      "cell_type": "code",
      "metadata": {
        "colab": {
          "base_uri": "https://localhost:8080/"
        },
        "id": "n4VhM3-5RiAi",
        "outputId": "590fb045-a5f2-46d8-fc83-4ad279e99231"
      },
      "source": [
        "from google.colab import drive\n",
        "drive.mount('/content/drive')"
      ],
      "execution_count": 1,
      "outputs": [
        {
          "output_type": "stream",
          "text": [
            "Mounted at /content/drive\n"
          ],
          "name": "stdout"
        }
      ]
    },
    {
      "cell_type": "code",
      "metadata": {
        "colab": {
          "base_uri": "https://localhost:8080/",
          "height": 454
        },
        "id": "cfXV_W1DvQNd",
        "outputId": "08d4b533-06d7-416e-873b-2fedd7abefe8"
      },
      "source": [
        "import cv2\n",
        "import numpy as np  \n",
        "from google.colab.patches import cv2_imshow\n",
        "\n",
        "#load image and convert to hsv\n",
        "img = cv2.imread(\"/content/drive/MyDrive/IT projects/AP Converter/plan-simple.png\")\n",
        "\n",
        "# draw gray box around image to detect edge buildings\n",
        "h,w = img.shape[:2]\n",
        "cv2.rectangle(img,(0,0),(w-1,h-1), (50,50,50),1)\n",
        "\n",
        "# convert image to HSV\n",
        "hsv = cv2.cvtColor(img, cv2.COLOR_BGR2HSV)\n",
        "\n",
        "# define color ranges\n",
        "low_yellow = (0,28,0)\n",
        "high_yellow = (27,255,255)\n",
        "\n",
        "low_gray = (0,0,0)\n",
        "high_gray = (179,255,233)\n",
        "\n",
        "# create masks\n",
        "yellow_mask = cv2.inRange(hsv, low_yellow, high_yellow )\n",
        "gray_mask = cv2.inRange(hsv, low_gray, high_gray)\n",
        "\n",
        "# combine masks\n",
        "combined_mask = cv2.bitwise_or(yellow_mask, gray_mask)\n",
        "kernel = np.ones((3,3), dtype=np.uint8)\n",
        "combined_mask = cv2.morphologyEx(combined_mask, cv2.MORPH_DILATE,kernel)\n",
        "\n",
        "# findcontours\n",
        "contours, hier = cv2.findContours(combined_mask,cv2.RETR_TREE, cv2.CHAIN_APPROX_SIMPLE)\n",
        "\n",
        "# find and draw buildings\n",
        "#for x in range(len(contours)):\n",
        " #       # if a contour has not contours inside of it, draw the shape filled\n",
        "  #      c = hier[0][x][2]\n",
        "   #     if c == -1:\n",
        "    #            cv2.drawContours(img,[contours[x]],0,(0,0,255),-1)\n",
        "\n",
        "# draw the outline of all contours\n",
        "#for cnt in contours:\n",
        " #       cv2.drawContours(img,[cnt],0,(0,255,0),2)\n",
        "\n",
        "img = cv2.drawContours(img, contours, 2, (0,255,0), 3)\n",
        "\n",
        "# display result\n",
        "cv2_imshow(img)\n"
      ],
      "execution_count": 37,
      "outputs": [
        {
          "output_type": "display_data",
          "data": {
            "image/png": "[encoded data removed]",
            "text/plain": [
              "<PIL.Image.Image image mode=RGB size=622x437 at 0x7FCF3D5D8780>"
            ]
          },
          "metadata": {
            "tags": []
          }
        }
      ]
    },
    {
      "cell_type": "code",
      "metadata": {
        "colab": {
          "base_uri": "https://localhost:8080/"
        },
        "id": "-2LMTnLXvhl0",
        "outputId": "9788dce8-3e0f-42ef-90c7-60edc4351f11"
      },
      "source": [
        "contours[2][1]"
      ],
      "execution_count": 6,
      "outputs": [
        {
          "output_type": "execute_result",
          "data": {
            "text/plain": [
              "array([[ 70, 355]], dtype=int32)"
            ]
          },
          "metadata": {
            "tags": []
          },
          "execution_count": 6
        }
      ]
    },
    {
      "cell_type": "code",
      "metadata": {
        "colab": {
          "base_uri": "https://localhost:8080/"
        },
        "id": "gotE-W6wPtLX",
        "outputId": "7c3ca0aa-25e8-4815-8c03-7cb3d5c4bef0"
      },
      "source": [
        "contours[2][1, 0]"
      ],
      "execution_count": 7,
      "outputs": [
        {
          "output_type": "execute_result",
          "data": {
            "text/plain": [
              "array([ 70, 355], dtype=int32)"
            ]
          },
          "metadata": {
            "tags": []
          },
          "execution_count": 7
        }
      ]
    },
    {
      "cell_type": "markdown",
      "metadata": {
        "id": "mWZgmNLWP0Uc"
      },
      "source": [
        "\r\n",
        "\r\n",
        "```\r\n",
        "# Ce texte est au format code\r\n",
        "```\r\n",
        "\r\n"
      ]
    },
    {
      "cell_type": "code",
      "metadata": {
        "colab": {
          "base_uri": "https://localhost:8080/"
        },
        "id": "vuWvTDWDPRzE",
        "outputId": "a8accf07-3a51-4ff6-df8c-44e619787b07"
      },
      "source": [
        "contours[2]"
      ],
      "execution_count": 8,
      "outputs": [
        {
          "output_type": "execute_result",
          "data": {
            "text/plain": [
              "array([[[ 70,  46]],\n",
              "\n",
              "       [[ 70, 355]],\n",
              "\n",
              "       [[568, 355]],\n",
              "\n",
              "       [[568,  46]]], dtype=int32)"
            ]
          },
          "metadata": {
            "tags": []
          },
          "execution_count": 8
        }
      ]
    },
    {
      "cell_type": "code",
      "metadata": {
        "colab": {
          "base_uri": "https://localhost:8080/"
        },
        "id": "Wup1cjGDRBoq",
        "outputId": "ce678bea-0f1d-4a62-de60-19fa846f8aaf"
      },
      "source": [
        "contours[3][3, 0][1]"
      ],
      "execution_count": null,
      "outputs": [
        {
          "output_type": "execute_result",
          "data": {
            "text/plain": [
              "53"
            ]
          },
          "metadata": {
            "tags": []
          },
          "execution_count": 53
        }
      ]
    },
    {
      "cell_type": "code",
      "metadata": {
        "colab": {
          "base_uri": "https://localhost:8080/"
        },
        "id": "loOhdGfFQ6mA",
        "outputId": "ad870237-5bb1-4858-8591-e0652fd207f3"
      },
      "source": [
        "len(contours[3])"
      ],
      "execution_count": 9,
      "outputs": [
        {
          "output_type": "execute_result",
          "data": {
            "text/plain": [
              "24"
            ]
          },
          "metadata": {
            "tags": []
          },
          "execution_count": 9
        }
      ]
    },
    {
      "cell_type": "code",
      "metadata": {
        "colab": {
          "base_uri": "https://localhost:8080/"
        },
        "id": "mCjfE5AhSUqr",
        "outputId": "db614109-e3bf-425d-f583-bc7a27a6d357"
      },
      "source": [
        "\r\n",
        "i = 0\r\n",
        "for i in range(len(contours[2])):\r\n",
        "  #print(i)\r\n",
        "  #print(\"x\", i, \" = \", contours[3][i, 0][0])\r\n",
        "  #print(\"y\", i, \" = \", contours[3][i, 0][1])\r\n",
        "  x1 = contours[2][i, 0][0]\r\n",
        "  y1 = contours[2][i, 0][1]\r\n",
        "  #print(\"x1 = \", contours[2][i, 0][0])\r\n",
        "  #print(\"y1 = \", contours[2][i, 0][1])\r\n",
        "\r\n",
        "  if i == len(contours[2]) - 1:\r\n",
        "    x2 = contours[2][0, 0][0]\r\n",
        "    y2 = contours[2][0, 0][1]\r\n",
        "    \r\n",
        "    originX = round(x1 / 40 * 100 * 10)\r\n",
        "    originY = round(y1 / 40 * 100 * 10)\r\n",
        "    sizeX = round(x2 / 40 * 100 * 10) + round(x1 / 40 * 100 * 10)\r\n",
        "    sizeY = round(y2 / 40 * 100 * 10) + round(y1 / 40 * 100 * 10)\r\n",
        "    if sizeX < 0:\r\n",
        "      originX += sizeX\r\n",
        "      sizeX = abs(sizeX)\r\n",
        "    if sizeY < 0:\r\n",
        "      originY += sizeY\r\n",
        "      sizeY = abs(sizeY)\r\n",
        "\r\n",
        "\r\n",
        "#    print(\"originX= \", originX)\r\n",
        "#    print(\"originY= \", originY)\r\n",
        "#    print(\"sizeX= \", sizeX)\r\n",
        "#    print(\"sizeY= \", sizeY)\r\n",
        "\r\n",
        "  else:\r\n",
        "    x2 = contours[2][i + 1 , 0][0]\r\n",
        "    y2 = contours[2][i + 1, 0][1]\r\n",
        "  #print(\"x2 = \", contours[2][i + 1, 0][0])\r\n",
        "  #print(\"y2 = \", contours[2][i + 1, 0][1])\r\n",
        "\r\n",
        "  originX = round(x1 / 40 * 100 * 10)\r\n",
        "  originY = round(y1 / 40 * 100 * 10)\r\n",
        "\r\n",
        "  sizeX = round(x2 / 40 * 100 * 10) - round(x1 / 40 * 100 * 10)\r\n",
        "  sizeY = round(y2 / 40 * 100 * 10) - round(y1 / 40 * 100 * 10)\r\n",
        "  if sizeX < 0:\r\n",
        "    originX += sizeX\r\n",
        "    sizeX = abs(sizeX)\r\n",
        "  if sizeY < 0:\r\n",
        "    originY += sizeY\r\n",
        "    sizeY = abs(sizeY)\r\n",
        "  #print(\"sX = \", sizeX)\r\n",
        "  #print(\"sY = \", sizeY)\r\n",
        "  print(\"originX = \", originX)\r\n",
        "  print(\"originY = \", originY)\r\n",
        "  print(\"sizeX = \", sizeX)\r\n",
        "  print(\"sizeY = \", sizeY)\r\n",
        "  print(\"\\n\")\r\n",
        "  \r\n",
        "  #write AP FILE\r\n",
        "  apfile = []\r\n",
        "\r\n",
        "  # ID type and group id of the object \r\n",
        "  apfile.append('W00000001')\r\n",
        "\r\n",
        "  # origin X\r\n",
        "  if originX == 0:\r\n",
        "    apfile.append('000000000')\r\n",
        "  elif originX <= 9 and originX > 0:\r\n",
        "    apfile.append('00000000' + str(originX))\r\n",
        "  elif originX >= 10 and originX <= 99:\r\n",
        "    apfile.append('0000000' + str(originX))\r\n",
        "  elif originX >= 100 and originX <= 999:\r\n",
        "    apfile.append('000000' + str(originX))\r\n",
        "  elif originX >= 1000 and originX <= 9999:\r\n",
        "    apfile.append('00000' + str(originX))\r\n",
        "  elif originX >= 10000 and originX <= 99999:\r\n",
        "    apfile.append('0000' + str(originX))\r\n",
        "\r\n",
        "  # origin Y\r\n",
        "  if originY == 0:\r\n",
        "    apfile.append('000000000')\r\n",
        "  elif originY <= 9 and originY > 0:\r\n",
        "    apfile.append('00000000' + str(originY))\r\n",
        "  elif originY >= 10 and originY <= 99:\r\n",
        "    apfile.append('0000000' + str(originY))\r\n",
        "  elif originY >= 100 and originY <= 999:\r\n",
        "    apfile.append('000000' + str(originY))\r\n",
        "  elif originY >= 1000 and originY <= 9999:\r\n",
        "    apfile.append('00000' + str(originY))\r\n",
        "  elif originY >= 10000 and originY <= 99999:\r\n",
        "    apfile.append('0000' + str(originY))\r\n",
        "\r\n",
        "  # origin z\r\n",
        "  apfile.append('000000000')\r\n",
        "        \r\n",
        "  # angle X, Y, Z\r\n",
        "  apfile.append('000000000')\r\n",
        "  apfile.append('000000000')\r\n",
        "  apfile.append('000000000')\r\n",
        "\r\n",
        "  # size X\r\n",
        "  if sizeX == 0:\r\n",
        "    apfile.append('000000000')\r\n",
        "  elif sizeX <= 9 and sizeX > 0:\r\n",
        "      apfile.append('00000000' + str(sizeX))\r\n",
        "  elif sizeX >= 10 and sizeX <= 99:\r\n",
        "    apfile.append('0000000' + str(sizeX))\r\n",
        "  elif sizeX >= 100 and sizeX <= 999:\r\n",
        "    apfile.append('000000' + str(sizeX))\r\n",
        "  elif sizeX >= 1000 and sizeX <= 9999:\r\n",
        "    apfile.append('00000' + str(sizeX))\r\n",
        "  elif sizeX >= 10000 and sizeX <= 99999:\r\n",
        "    apfile.append('0000' + str(sizeX))\r\n",
        "\r\n",
        "  # sizeY \r\n",
        "  if sizeY == 0:\r\n",
        "    apfile.append('000000000')\r\n",
        "  elif sizeY <= 9 and sizeY > 0:\r\n",
        "    apfile.append('00000000' + str(sizeY))\r\n",
        "  elif sizeY >= 10 and sizeY <= 99:\r\n",
        "    apfile.append('0000000' + str(sizeY))\r\n",
        "  elif sizeY >= 100 and sizeY <= 999:\r\n",
        "    apfile.append('000000' + str(sizeY))\r\n",
        "  elif sizeY >= 1000 and sizeY <= 9999:\r\n",
        "    apfile.append('00000' + str(sizeY))\r\n",
        "  elif sizeY >= 10000 and sizeY <= 99999:\r\n",
        "    apfile.append('0000' + str(sizeY))\r\n",
        "  \r\n",
        "  # size Z\r\n",
        "  apfile.append('000000000')\r\n",
        "\r\n",
        "  # pipe\r\n",
        "  apfile.append('000000000')\r\n",
        "\r\n",
        "  # convert the apfile list to a str\r\n",
        "  apstring = ''.join(apfile)\r\n",
        "  # write & save apfile on file \r\n",
        "  with open('/content/drive/MyDrive/IT projects/AP Converter/NEWAP/NEWAPfile6.txt', 'a') as handle:\r\n",
        "    handle.write(apstring)"
      ],
      "execution_count": 42,
      "outputs": [
        {
          "output_type": "stream",
          "text": [
            "originX =  1750\n",
            "originY =  1150\n",
            "sizeX =  0\n",
            "sizeY =  7725\n",
            "\n",
            "\n",
            "originX =  1750\n",
            "originY =  8875\n",
            "sizeX =  12450\n",
            "sizeY =  0\n",
            "\n",
            "\n",
            "originX =  14200\n",
            "originY =  1150\n",
            "sizeX =  0\n",
            "sizeY =  7725\n",
            "\n",
            "\n",
            "originX =  1750\n",
            "originY =  1150\n",
            "sizeX =  12450\n",
            "sizeY =  0\n",
            "\n",
            "\n"
          ],
          "name": "stdout"
        }
      ]
    },
    {
      "cell_type": "code",
      "metadata": {
        "colab": {
          "base_uri": "https://localhost:8080/"
        },
        "id": "KJeky4VU9DnQ",
        "outputId": "3343c39d-f52e-4012-d425-39d2e758fc5c"
      },
      "source": [
        "len(contours[2]) - 1"
      ],
      "execution_count": 4,
      "outputs": [
        {
          "output_type": "execute_result",
          "data": {
            "text/plain": [
              "3"
            ]
          },
          "metadata": {
            "tags": []
          },
          "execution_count": 4
        }
      ]
    },
    {
      "cell_type": "code",
      "metadata": {
        "colab": {
          "base_uri": "https://localhost:8080/",
          "height": 214
        },
        "id": "1ixIwokxWGF_",
        "outputId": "03abfb4d-9800-4327-e50e-c13e765072f4"
      },
      "source": [
        "\r\n",
        "for i in range(len(contours[3])):\r\n",
        "  #print(\"x\", i, \" = \", contours[3][i, 0][0])\r\n",
        "  #print(\"y\", i, \" = \", contours[3][i, 0][1])\r\n",
        "  xi = contours[3][i + 1, 0][0]\r\n",
        "  yi = contours[3][i + 1, 0][1]"
      ],
      "execution_count": null,
      "outputs": [
        {
          "output_type": "error",
          "ename": "IndexError",
          "evalue": "ignored",
          "traceback": [
            "\u001b[0;31m---------------------------------------------------------------------------\u001b[0m",
            "\u001b[0;31mIndexError\u001b[0m                                Traceback (most recent call last)",
            "\u001b[0;32m<ipython-input-60-ae799f588ec7>\u001b[0m in \u001b[0;36m<module>\u001b[0;34m()\u001b[0m\n\u001b[1;32m      3\u001b[0m   \u001b[0;31m#print(\"x\", i, \" = \", contours[3][i, 0][0])\u001b[0m\u001b[0;34m\u001b[0m\u001b[0;34m\u001b[0m\u001b[0;34m\u001b[0m\u001b[0m\n\u001b[1;32m      4\u001b[0m   \u001b[0;31m#print(\"y\", i, \" = \", contours[3][i, 0][1])\u001b[0m\u001b[0;34m\u001b[0m\u001b[0;34m\u001b[0m\u001b[0;34m\u001b[0m\u001b[0m\n\u001b[0;32m----> 5\u001b[0;31m   \u001b[0mxi\u001b[0m \u001b[0;34m=\u001b[0m \u001b[0mcontours\u001b[0m\u001b[0;34m[\u001b[0m\u001b[0;36m3\u001b[0m\u001b[0;34m]\u001b[0m\u001b[0;34m[\u001b[0m\u001b[0mi\u001b[0m \u001b[0;34m+\u001b[0m \u001b[0;36m1\u001b[0m\u001b[0;34m,\u001b[0m \u001b[0;36m0\u001b[0m\u001b[0;34m]\u001b[0m\u001b[0;34m[\u001b[0m\u001b[0;36m0\u001b[0m\u001b[0;34m]\u001b[0m\u001b[0;34m\u001b[0m\u001b[0;34m\u001b[0m\u001b[0m\n\u001b[0m\u001b[1;32m      6\u001b[0m   \u001b[0myi\u001b[0m \u001b[0;34m=\u001b[0m \u001b[0mcontours\u001b[0m\u001b[0;34m[\u001b[0m\u001b[0;36m3\u001b[0m\u001b[0;34m]\u001b[0m\u001b[0;34m[\u001b[0m\u001b[0mi\u001b[0m \u001b[0;34m+\u001b[0m \u001b[0;36m1\u001b[0m\u001b[0;34m,\u001b[0m \u001b[0;36m0\u001b[0m\u001b[0;34m]\u001b[0m\u001b[0;34m[\u001b[0m\u001b[0;36m1\u001b[0m\u001b[0;34m]\u001b[0m\u001b[0;34m\u001b[0m\u001b[0;34m\u001b[0m\u001b[0m\n",
            "\u001b[0;31mIndexError\u001b[0m: index 24 is out of bounds for axis 0 with size 24"
          ]
        }
      ]
    },
    {
      "cell_type": "code",
      "metadata": {
        "id": "wDQq411TwOgq",
        "colab": {
          "base_uri": "https://localhost:8080/"
        },
        "outputId": "21ad1a42-11ca-427a-fec8-316f3294d347"
      },
      "source": [
        "import math\r\n",
        "\r\n",
        "x0, y0 = 70, 46\r\n",
        "x1, y1 = 70, 355\r\n",
        "x2, y2 = 568, 355\r\n",
        "x3, y3 = 568, 46\r\n",
        "\r\n",
        "print(x0,y0,x1,y1)\r\n",
        "distance = math.sqrt(((x0 - x1)**2)+((y0 - y1)**2))\r\n",
        "distance2 = math.sqrt(((x1 - x2)**2)+((y1 - y2)**2))\r\n"
      ],
      "execution_count": null,
      "outputs": [
        {
          "output_type": "stream",
          "text": [
            "70 46 70 355\n"
          ],
          "name": "stdout"
        }
      ]
    },
    {
      "cell_type": "markdown",
      "metadata": {
        "id": "9AjDc4fCcgqA"
      },
      "source": [
        "distance"
      ]
    },
    {
      "cell_type": "code",
      "metadata": {
        "colab": {
          "base_uri": "https://localhost:8080/"
        },
        "id": "rR-342opfi_n",
        "outputId": "31bdd153-adfa-4f67-cd2e-d604259c4160"
      },
      "source": [
        "#real dimension in cm \r\n",
        "# we first put the pxl distance in cm \r\n",
        "# then we put it at the floor plan scale here 100\r\n",
        "# then we convert in mm\r\n",
        "\r\n",
        "reeldim = round(((distance / 40) * 100) * 10)\r\n",
        "reeldim"
      ],
      "execution_count": null,
      "outputs": [
        {
          "output_type": "execute_result",
          "data": {
            "text/plain": [
              "7725"
            ]
          },
          "metadata": {
            "tags": []
          },
          "execution_count": 121
        }
      ]
    },
    {
      "cell_type": "code",
      "metadata": {
        "id": "xBKrGay5kH9q"
      },
      "source": [
        "cm = distance / 40 "
      ],
      "execution_count": null,
      "outputs": []
    },
    {
      "cell_type": "code",
      "metadata": {
        "id": "dcj5xWfClyaG"
      },
      "source": [
        "scale = cm * 100"
      ],
      "execution_count": null,
      "outputs": []
    },
    {
      "cell_type": "code",
      "metadata": {
        "id": "74ObTkx9l6kX"
      },
      "source": [
        "mm = scale * 10"
      ],
      "execution_count": null,
      "outputs": []
    },
    {
      "cell_type": "code",
      "metadata": {
        "id": "ziI9OtZjqCBi"
      },
      "source": [
        "# coord in milimeters\r\n",
        "x0mm = round(x0 / 40 * 100 * 10)\r\n",
        "y0mm = round(y0 / 40 * 100 * 10)\r\n",
        "x1mm = round(x1 / 40 * 100 * 10)\r\n",
        "y1mm = round(y1 / 40 * 100 * 10)\r\n",
        "x2mm = round(x2 / 40 * 100 * 10)\r\n",
        "y2mm = round(y2 / 40 * 100 * 10)\r\n",
        "x3mm = round(x3 / 40 * 100 * 10)\r\n",
        "y3mm = round(y3 / 40 * 100 * 10)"
      ],
      "execution_count": null,
      "outputs": []
    },
    {
      "cell_type": "code",
      "metadata": {
        "id": "0KeoEr-jPKSD"
      },
      "source": [
        ""
      ],
      "execution_count": null,
      "outputs": []
    }
  ]
}